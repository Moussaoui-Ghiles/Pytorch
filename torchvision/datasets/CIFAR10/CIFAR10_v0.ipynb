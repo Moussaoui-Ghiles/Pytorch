{
  "nbformat": 4,
  "nbformat_minor": 0,
  "metadata": {
    "colab": {
      "provenance": []
    },
    "kernelspec": {
      "name": "python3",
      "display_name": "Python 3"
    },
    "language_info": {
      "name": "python"
    },
    "accelerator": "GPU",
    "gpuClass": "standard",
    "widgets": {
      "application/vnd.jupyter.widget-state+json": {
        "a01fc35e85764dbe8d9e3c1f0b0f050b": {
          "model_module": "@jupyter-widgets/controls",
          "model_name": "HBoxModel",
          "model_module_version": "1.5.0",
          "state": {
            "_dom_classes": [],
            "_model_module": "@jupyter-widgets/controls",
            "_model_module_version": "1.5.0",
            "_model_name": "HBoxModel",
            "_view_count": null,
            "_view_module": "@jupyter-widgets/controls",
            "_view_module_version": "1.5.0",
            "_view_name": "HBoxView",
            "box_style": "",
            "children": [
              "IPY_MODEL_b9d8f051a807487c82d7394a241cc7c7",
              "IPY_MODEL_0d5842269a26488ab6d2d7cc2f460de4",
              "IPY_MODEL_4f5d29a551044284bfa2e8d8ef8ed608"
            ],
            "layout": "IPY_MODEL_849765f30c974b509c58ccda571ee1aa"
          }
        },
        "b9d8f051a807487c82d7394a241cc7c7": {
          "model_module": "@jupyter-widgets/controls",
          "model_name": "HTMLModel",
          "model_module_version": "1.5.0",
          "state": {
            "_dom_classes": [],
            "_model_module": "@jupyter-widgets/controls",
            "_model_module_version": "1.5.0",
            "_model_name": "HTMLModel",
            "_view_count": null,
            "_view_module": "@jupyter-widgets/controls",
            "_view_module_version": "1.5.0",
            "_view_name": "HTMLView",
            "description": "",
            "description_tooltip": null,
            "layout": "IPY_MODEL_16ae00d8a2404ca4997d40098aff863d",
            "placeholder": "​",
            "style": "IPY_MODEL_fe04aa83bfde4f7b8102580c17e2316e",
            "value": "100%"
          }
        },
        "0d5842269a26488ab6d2d7cc2f460de4": {
          "model_module": "@jupyter-widgets/controls",
          "model_name": "FloatProgressModel",
          "model_module_version": "1.5.0",
          "state": {
            "_dom_classes": [],
            "_model_module": "@jupyter-widgets/controls",
            "_model_module_version": "1.5.0",
            "_model_name": "FloatProgressModel",
            "_view_count": null,
            "_view_module": "@jupyter-widgets/controls",
            "_view_module_version": "1.5.0",
            "_view_name": "ProgressView",
            "bar_style": "success",
            "description": "",
            "description_tooltip": null,
            "layout": "IPY_MODEL_88005fa4cf1f4e8298a269bb961eb1e5",
            "max": 20,
            "min": 0,
            "orientation": "horizontal",
            "style": "IPY_MODEL_b9a738d8875e485dab03641edec0589c",
            "value": 20
          }
        },
        "4f5d29a551044284bfa2e8d8ef8ed608": {
          "model_module": "@jupyter-widgets/controls",
          "model_name": "HTMLModel",
          "model_module_version": "1.5.0",
          "state": {
            "_dom_classes": [],
            "_model_module": "@jupyter-widgets/controls",
            "_model_module_version": "1.5.0",
            "_model_name": "HTMLModel",
            "_view_count": null,
            "_view_module": "@jupyter-widgets/controls",
            "_view_module_version": "1.5.0",
            "_view_name": "HTMLView",
            "description": "",
            "description_tooltip": null,
            "layout": "IPY_MODEL_cbadbe7d4e4a4d7aac1689bbf6733ec6",
            "placeholder": "​",
            "style": "IPY_MODEL_e9236f6a07874f85b9e3b73cdc43954f",
            "value": " 20/20 [08:50&lt;00:00, 25.86s/it]"
          }
        },
        "849765f30c974b509c58ccda571ee1aa": {
          "model_module": "@jupyter-widgets/base",
          "model_name": "LayoutModel",
          "model_module_version": "1.2.0",
          "state": {
            "_model_module": "@jupyter-widgets/base",
            "_model_module_version": "1.2.0",
            "_model_name": "LayoutModel",
            "_view_count": null,
            "_view_module": "@jupyter-widgets/base",
            "_view_module_version": "1.2.0",
            "_view_name": "LayoutView",
            "align_content": null,
            "align_items": null,
            "align_self": null,
            "border": null,
            "bottom": null,
            "display": null,
            "flex": null,
            "flex_flow": null,
            "grid_area": null,
            "grid_auto_columns": null,
            "grid_auto_flow": null,
            "grid_auto_rows": null,
            "grid_column": null,
            "grid_gap": null,
            "grid_row": null,
            "grid_template_areas": null,
            "grid_template_columns": null,
            "grid_template_rows": null,
            "height": null,
            "justify_content": null,
            "justify_items": null,
            "left": null,
            "margin": null,
            "max_height": null,
            "max_width": null,
            "min_height": null,
            "min_width": null,
            "object_fit": null,
            "object_position": null,
            "order": null,
            "overflow": null,
            "overflow_x": null,
            "overflow_y": null,
            "padding": null,
            "right": null,
            "top": null,
            "visibility": null,
            "width": null
          }
        },
        "16ae00d8a2404ca4997d40098aff863d": {
          "model_module": "@jupyter-widgets/base",
          "model_name": "LayoutModel",
          "model_module_version": "1.2.0",
          "state": {
            "_model_module": "@jupyter-widgets/base",
            "_model_module_version": "1.2.0",
            "_model_name": "LayoutModel",
            "_view_count": null,
            "_view_module": "@jupyter-widgets/base",
            "_view_module_version": "1.2.0",
            "_view_name": "LayoutView",
            "align_content": null,
            "align_items": null,
            "align_self": null,
            "border": null,
            "bottom": null,
            "display": null,
            "flex": null,
            "flex_flow": null,
            "grid_area": null,
            "grid_auto_columns": null,
            "grid_auto_flow": null,
            "grid_auto_rows": null,
            "grid_column": null,
            "grid_gap": null,
            "grid_row": null,
            "grid_template_areas": null,
            "grid_template_columns": null,
            "grid_template_rows": null,
            "height": null,
            "justify_content": null,
            "justify_items": null,
            "left": null,
            "margin": null,
            "max_height": null,
            "max_width": null,
            "min_height": null,
            "min_width": null,
            "object_fit": null,
            "object_position": null,
            "order": null,
            "overflow": null,
            "overflow_x": null,
            "overflow_y": null,
            "padding": null,
            "right": null,
            "top": null,
            "visibility": null,
            "width": null
          }
        },
        "fe04aa83bfde4f7b8102580c17e2316e": {
          "model_module": "@jupyter-widgets/controls",
          "model_name": "DescriptionStyleModel",
          "model_module_version": "1.5.0",
          "state": {
            "_model_module": "@jupyter-widgets/controls",
            "_model_module_version": "1.5.0",
            "_model_name": "DescriptionStyleModel",
            "_view_count": null,
            "_view_module": "@jupyter-widgets/base",
            "_view_module_version": "1.2.0",
            "_view_name": "StyleView",
            "description_width": ""
          }
        },
        "88005fa4cf1f4e8298a269bb961eb1e5": {
          "model_module": "@jupyter-widgets/base",
          "model_name": "LayoutModel",
          "model_module_version": "1.2.0",
          "state": {
            "_model_module": "@jupyter-widgets/base",
            "_model_module_version": "1.2.0",
            "_model_name": "LayoutModel",
            "_view_count": null,
            "_view_module": "@jupyter-widgets/base",
            "_view_module_version": "1.2.0",
            "_view_name": "LayoutView",
            "align_content": null,
            "align_items": null,
            "align_self": null,
            "border": null,
            "bottom": null,
            "display": null,
            "flex": null,
            "flex_flow": null,
            "grid_area": null,
            "grid_auto_columns": null,
            "grid_auto_flow": null,
            "grid_auto_rows": null,
            "grid_column": null,
            "grid_gap": null,
            "grid_row": null,
            "grid_template_areas": null,
            "grid_template_columns": null,
            "grid_template_rows": null,
            "height": null,
            "justify_content": null,
            "justify_items": null,
            "left": null,
            "margin": null,
            "max_height": null,
            "max_width": null,
            "min_height": null,
            "min_width": null,
            "object_fit": null,
            "object_position": null,
            "order": null,
            "overflow": null,
            "overflow_x": null,
            "overflow_y": null,
            "padding": null,
            "right": null,
            "top": null,
            "visibility": null,
            "width": null
          }
        },
        "b9a738d8875e485dab03641edec0589c": {
          "model_module": "@jupyter-widgets/controls",
          "model_name": "ProgressStyleModel",
          "model_module_version": "1.5.0",
          "state": {
            "_model_module": "@jupyter-widgets/controls",
            "_model_module_version": "1.5.0",
            "_model_name": "ProgressStyleModel",
            "_view_count": null,
            "_view_module": "@jupyter-widgets/base",
            "_view_module_version": "1.2.0",
            "_view_name": "StyleView",
            "bar_color": null,
            "description_width": ""
          }
        },
        "cbadbe7d4e4a4d7aac1689bbf6733ec6": {
          "model_module": "@jupyter-widgets/base",
          "model_name": "LayoutModel",
          "model_module_version": "1.2.0",
          "state": {
            "_model_module": "@jupyter-widgets/base",
            "_model_module_version": "1.2.0",
            "_model_name": "LayoutModel",
            "_view_count": null,
            "_view_module": "@jupyter-widgets/base",
            "_view_module_version": "1.2.0",
            "_view_name": "LayoutView",
            "align_content": null,
            "align_items": null,
            "align_self": null,
            "border": null,
            "bottom": null,
            "display": null,
            "flex": null,
            "flex_flow": null,
            "grid_area": null,
            "grid_auto_columns": null,
            "grid_auto_flow": null,
            "grid_auto_rows": null,
            "grid_column": null,
            "grid_gap": null,
            "grid_row": null,
            "grid_template_areas": null,
            "grid_template_columns": null,
            "grid_template_rows": null,
            "height": null,
            "justify_content": null,
            "justify_items": null,
            "left": null,
            "margin": null,
            "max_height": null,
            "max_width": null,
            "min_height": null,
            "min_width": null,
            "object_fit": null,
            "object_position": null,
            "order": null,
            "overflow": null,
            "overflow_x": null,
            "overflow_y": null,
            "padding": null,
            "right": null,
            "top": null,
            "visibility": null,
            "width": null
          }
        },
        "e9236f6a07874f85b9e3b73cdc43954f": {
          "model_module": "@jupyter-widgets/controls",
          "model_name": "DescriptionStyleModel",
          "model_module_version": "1.5.0",
          "state": {
            "_model_module": "@jupyter-widgets/controls",
            "_model_module_version": "1.5.0",
            "_model_name": "DescriptionStyleModel",
            "_view_count": null,
            "_view_module": "@jupyter-widgets/base",
            "_view_module_version": "1.2.0",
            "_view_name": "StyleView",
            "description_width": ""
          }
        }
      }
    }
  },
  "cells": [
    {
      "cell_type": "markdown",
      "source": [
        "# CIFAR10 first version:\n",
        "\n",
        "In this notebook im going to make the first model on the CIFAR10 dataset, the model will be build randomly using CNN's and a linear classifer."
      ],
      "metadata": {
        "id": "uHjCCsEcNuf7"
      }
    },
    {
      "cell_type": "markdown",
      "source": [
        "## 1. Importing libreries:"
      ],
      "metadata": {
        "id": "JfdXbSclWlIH"
      }
    },
    {
      "cell_type": "code",
      "source": [
        "import torch \n",
        "from torch import nn\n",
        "from torch.utils.data import DataLoader\n",
        "\n",
        "import torchvision \n",
        "from torchvision import transforms, datasets\n"
      ],
      "metadata": {
        "id": "s_YHcGaVOQFQ"
      },
      "execution_count": 15,
      "outputs": []
    },
    {
      "cell_type": "markdown",
      "source": [
        "## 2. Setting agnostic device"
      ],
      "metadata": {
        "id": "mg1hPZNdWkkT"
      }
    },
    {
      "cell_type": "code",
      "source": [
        "device = \"cuda\" if torch.cuda.is_available() else \"cpu\"\n",
        "device"
      ],
      "metadata": {
        "colab": {
          "base_uri": "https://localhost:8080/",
          "height": 35
        },
        "id": "deSGUSpEO5bO",
        "outputId": "8eba9637-2afd-4826-9e31-0f61d631f61a"
      },
      "execution_count": 16,
      "outputs": [
        {
          "output_type": "execute_result",
          "data": {
            "text/plain": [
              "'cuda'"
            ],
            "application/vnd.google.colaboratory.intrinsic+json": {
              "type": "string"
            }
          },
          "metadata": {},
          "execution_count": 16
        }
      ]
    },
    {
      "cell_type": "markdown",
      "source": [
        "## 3. Getting and preparing the Data: "
      ],
      "metadata": {
        "id": "MzzncNaGWxNm"
      }
    },
    {
      "cell_type": "code",
      "source": [
        "# Let's make some transformations on the train data to avoid overfitting \n",
        "data_augmentation= transforms.Compose([\n",
        "    transforms.TrivialAugmentWide(num_magnitude_bins=31),\n",
        "    transforms.ToTensor()\n",
        "])\n",
        "# We dont need to do the same thing for the test data\n",
        "test_transform = transforms.Compose([\n",
        "    transforms.ToTensor()\n",
        "])"
      ],
      "metadata": {
        "id": "zTLoFm_aPY-L"
      },
      "execution_count": 17,
      "outputs": []
    },
    {
      "cell_type": "code",
      "source": [
        "# Let's dwonload the data: \n",
        "\n",
        "train_data = datasets.CIFAR10(root = \"data\",\n",
        "                              train = True,\n",
        "                              transform = data_augmentation,\n",
        "                              download = True)\n",
        "test_data = datasets.CIFAR10(root = \"data\",\n",
        "                             train = False,\n",
        "                             transform = test_transform,\n",
        "                             download = True)"
      ],
      "metadata": {
        "colab": {
          "base_uri": "https://localhost:8080/"
        },
        "id": "Dg2zBsmbPK_4",
        "outputId": "ab91dc74-bc6b-40bd-f42d-02b7c81f103b"
      },
      "execution_count": 18,
      "outputs": [
        {
          "output_type": "stream",
          "name": "stdout",
          "text": [
            "Files already downloaded and verified\n",
            "Files already downloaded and verified\n"
          ]
        }
      ]
    },
    {
      "cell_type": "code",
      "source": [
        "# We need a list of the available classes\n",
        "class_names = train_data.classes\n",
        "class_names"
      ],
      "metadata": {
        "colab": {
          "base_uri": "https://localhost:8080/"
        },
        "id": "UWvahODnQFUm",
        "outputId": "9e2c920e-ee9d-472a-9c65-e8761e7fa1b2"
      },
      "execution_count": 19,
      "outputs": [
        {
          "output_type": "execute_result",
          "data": {
            "text/plain": [
              "['airplane',\n",
              " 'automobile',\n",
              " 'bird',\n",
              " 'cat',\n",
              " 'deer',\n",
              " 'dog',\n",
              " 'frog',\n",
              " 'horse',\n",
              " 'ship',\n",
              " 'truck']"
            ]
          },
          "metadata": {},
          "execution_count": 19
        }
      ]
    },
    {
      "cell_type": "code",
      "source": [
        "from torchvision.transforms.autoaugment import F\n",
        "# We need to feed the model batches of the train data: \n",
        "\n",
        "train_dataloader = DataLoader(train_data,\n",
        "                              batch_size = 128,\n",
        "                              shuffle = True,\n",
        "                              pin_memory=True)\n",
        "test_dataloader = DataLoader(test_data,\n",
        "                             batch_size = 128,\n",
        "                             shuffle = False\n",
        "                             )"
      ],
      "metadata": {
        "id": "7DviL-ewQT93"
      },
      "execution_count": 20,
      "outputs": []
    },
    {
      "cell_type": "code",
      "source": [
        "# Now we have an iterable object\n",
        "images, labels = next(iter(train_dataloader))\n",
        "images[0].shape, labels[0]"
      ],
      "metadata": {
        "colab": {
          "base_uri": "https://localhost:8080/"
        },
        "id": "-fMNfDROQ4nP",
        "outputId": "a1867666-f42c-4bba-de01-78f1988bc0e5"
      },
      "execution_count": 21,
      "outputs": [
        {
          "output_type": "execute_result",
          "data": {
            "text/plain": [
              "(torch.Size([3, 32, 32]), tensor(9))"
            ]
          },
          "metadata": {},
          "execution_count": 21
        }
      ]
    },
    {
      "cell_type": "code",
      "source": [
        "image, label = train_data[0]\n",
        "image.shape, label\n"
      ],
      "metadata": {
        "colab": {
          "base_uri": "https://localhost:8080/"
        },
        "id": "Y3dG1AXCQ8wI",
        "outputId": "4f1885ac-8150-414a-b737-50fc66be40ea"
      },
      "execution_count": 22,
      "outputs": [
        {
          "output_type": "execute_result",
          "data": {
            "text/plain": [
              "(torch.Size([3, 32, 32]), 6)"
            ]
          },
          "metadata": {},
          "execution_count": 22
        }
      ]
    },
    {
      "cell_type": "markdown",
      "source": [
        "## 4. Building the model:\n",
        "This model will have two blocks, the feauture extractor and the classifer."
      ],
      "metadata": {
        "id": "_ikK0qLLaOjl"
      }
    },
    {
      "cell_type": "code",
      "source": [
        "class CIFAR10(nn.Module):\n",
        "  def __init__(self):\n",
        "    super().__init__()\n",
        "    self.feature_extractor = nn.Sequential(\n",
        "        nn.Conv2d(3, 8, 3, 1, 1),\n",
        "        nn.ReLU(),\n",
        "        nn.Conv2d(8, 32, 3, 1, 1),\n",
        "        nn.ReLU(),\n",
        "        nn.MaxPool2d(2,2),\n",
        "        nn.Conv2d(32, 32, 3, 1, 1),\n",
        "        nn.ReLU(),\n",
        "        nn.Conv2d(32, 64, 3 ,1, 1),\n",
        "        nn.ReLU(),\n",
        "        nn.MaxPool2d(2,2),\n",
        "        nn.Conv2d(64, 64, 3, 1, 1),\n",
        "        nn.ReLU(),\n",
        "        nn.Conv2d(64, 128, 3, 1, 1),\n",
        "        nn.ReLU(),\n",
        "        nn.AvgPool2d(2,2)\n",
        "\n",
        "    )\n",
        "    self.classifier = nn.Sequential(\n",
        "        nn.Flatten(),\n",
        "        nn.Linear(128*4*4, 10)\n",
        "    )\n",
        "  def forward(self, x):\n",
        "    x = self.classifier(self.feature_extractor(x))\n",
        "    return x"
      ],
      "metadata": {
        "id": "yjI_Bd0RRO94"
      },
      "execution_count": 23,
      "outputs": []
    },
    {
      "cell_type": "code",
      "source": [
        "# Let's take the model to the availble device\n",
        "model = CIFAR10().to(device)"
      ],
      "metadata": {
        "id": "wQ6rWho5UVND"
      },
      "execution_count": 24,
      "outputs": []
    },
    {
      "cell_type": "code",
      "source": [
        "!pip install torchinfo\n",
        "from torchinfo import summary"
      ],
      "metadata": {
        "colab": {
          "base_uri": "https://localhost:8080/"
        },
        "id": "3n1WRm9uUaHw",
        "outputId": "d1c31259-6076-4751-c940-5695162d889f"
      },
      "execution_count": 25,
      "outputs": [
        {
          "output_type": "stream",
          "name": "stdout",
          "text": [
            "Looking in indexes: https://pypi.org/simple, https://us-python.pkg.dev/colab-wheels/public/simple/\n",
            "Requirement already satisfied: torchinfo in /usr/local/lib/python3.8/dist-packages (1.7.2)\n"
          ]
        }
      ]
    },
    {
      "cell_type": "markdown",
      "source": [
        "**Let's see the informations regarding the architechrure of the model:"
      ],
      "metadata": {
        "id": "AZj62QKka0-w"
      }
    },
    {
      "cell_type": "code",
      "source": [
        "# Print a summary using torchinfo (uncomment for actual output)\n",
        "summary(model=model, \n",
        "        input_size=(128, 3, 32, 32), # make sure this is \"input_size\", not \"input_shape\"\n",
        "        # col_names=[\"input_size\"], # uncomment for smaller output\n",
        "        col_names=[\"input_size\", \"output_size\", \"num_params\", \"trainable\"],\n",
        "        col_width=20,\n",
        "        row_settings=[\"var_names\"]\n",
        ") "
      ],
      "metadata": {
        "colab": {
          "base_uri": "https://localhost:8080/"
        },
        "id": "NpstDrhQUtNs",
        "outputId": "a9ca5f9f-7f02-4ac9-cedf-78e7b1c86573"
      },
      "execution_count": 26,
      "outputs": [
        {
          "output_type": "execute_result",
          "data": {
            "text/plain": [
              "========================================================================================================================\n",
              "Layer (type (var_name))                  Input Shape          Output Shape         Param #              Trainable\n",
              "========================================================================================================================\n",
              "CIFAR10 (CIFAR10)                        [128, 3, 32, 32]     [128, 10]            --                   True\n",
              "├─Sequential (feature_extractor)         [128, 3, 32, 32]     [128, 128, 4, 4]     --                   True\n",
              "│    └─Conv2d (0)                        [128, 3, 32, 32]     [128, 8, 32, 32]     224                  True\n",
              "│    └─ReLU (1)                          [128, 8, 32, 32]     [128, 8, 32, 32]     --                   --\n",
              "│    └─Conv2d (2)                        [128, 8, 32, 32]     [128, 32, 32, 32]    2,336                True\n",
              "│    └─ReLU (3)                          [128, 32, 32, 32]    [128, 32, 32, 32]    --                   --\n",
              "│    └─MaxPool2d (4)                     [128, 32, 32, 32]    [128, 32, 16, 16]    --                   --\n",
              "│    └─Conv2d (5)                        [128, 32, 16, 16]    [128, 32, 16, 16]    9,248                True\n",
              "│    └─ReLU (6)                          [128, 32, 16, 16]    [128, 32, 16, 16]    --                   --\n",
              "│    └─Conv2d (7)                        [128, 32, 16, 16]    [128, 64, 16, 16]    18,496               True\n",
              "│    └─ReLU (8)                          [128, 64, 16, 16]    [128, 64, 16, 16]    --                   --\n",
              "│    └─MaxPool2d (9)                     [128, 64, 16, 16]    [128, 64, 8, 8]      --                   --\n",
              "│    └─Conv2d (10)                       [128, 64, 8, 8]      [128, 64, 8, 8]      36,928               True\n",
              "│    └─ReLU (11)                         [128, 64, 8, 8]      [128, 64, 8, 8]      --                   --\n",
              "│    └─Conv2d (12)                       [128, 64, 8, 8]      [128, 128, 8, 8]     73,856               True\n",
              "│    └─ReLU (13)                         [128, 128, 8, 8]     [128, 128, 8, 8]     --                   --\n",
              "│    └─AvgPool2d (14)                    [128, 128, 8, 8]     [128, 128, 4, 4]     --                   --\n",
              "├─Sequential (classifier)                [128, 128, 4, 4]     [128, 10]            --                   True\n",
              "│    └─Flatten (0)                       [128, 128, 4, 4]     [128, 2048]          --                   --\n",
              "│    └─Linear (1)                        [128, 2048]          [128, 10]            20,490               True\n",
              "========================================================================================================================\n",
              "Total params: 161,578\n",
              "Trainable params: 161,578\n",
              "Non-trainable params: 0\n",
              "Total mult-adds (G): 2.15\n",
              "========================================================================================================================\n",
              "Input size (MB): 1.57\n",
              "Forward/backward pass size (MB): 79.70\n",
              "Params size (MB): 0.65\n",
              "Estimated Total Size (MB): 81.92\n",
              "========================================================================================================================"
            ]
          },
          "metadata": {},
          "execution_count": 26
        }
      ]
    },
    {
      "cell_type": "markdown",
      "source": [
        "## 5. training:\n"
      ],
      "metadata": {
        "id": "WO33oy7rbAjJ"
      }
    },
    {
      "cell_type": "code",
      "source": [
        "loss_fn = nn.CrossEntropyLoss()\n",
        "optimizer = torch.optim.Adam(model.parameters(), lr = 0.001)"
      ],
      "metadata": {
        "id": "HalTM8-wVBF_"
      },
      "execution_count": 27,
      "outputs": []
    },
    {
      "cell_type": "code",
      "source": [
        "from tqdm.auto import tqdm\n",
        "\n",
        "for epoch in tqdm(range(20)):\n",
        "  print(f\"Epoch number {epoch}\")\n",
        "  train_loss, train_acc = 0, 0\n",
        "  for batch ,(X,y) in enumerate(train_dataloader):\n",
        "    X, y = X.to(device), y.to(device)\n",
        "    model.train()\n",
        "    # forward pass \n",
        "    pred = model(X)\n",
        "    # loss \n",
        "    loss = loss_fn(pred, y)\n",
        "    train_loss += loss.item()\n",
        "\n",
        "    optimizer.zero_grad()\n",
        "    loss.backward()\n",
        "    optimizer.step()\n",
        "    y_pred_class = torch.argmax(torch.softmax(pred, dim=1), dim=1)\n",
        "    train_acc += (y_pred_class == y).sum().item()/len(pred)\n",
        "  train_loss = train_loss / len(train_dataloader)\n",
        "  train_acc = train_acc/len(train_dataloader)\n",
        "  print(f\"EPOCH : {epoch} / train loss :{train_loss} / train accuracy: {train_acc}\")\n"
      ],
      "metadata": {
        "colab": {
          "base_uri": "https://localhost:8080/",
          "height": 743,
          "referenced_widgets": [
            "a01fc35e85764dbe8d9e3c1f0b0f050b",
            "b9d8f051a807487c82d7394a241cc7c7",
            "0d5842269a26488ab6d2d7cc2f460de4",
            "4f5d29a551044284bfa2e8d8ef8ed608",
            "849765f30c974b509c58ccda571ee1aa",
            "16ae00d8a2404ca4997d40098aff863d",
            "fe04aa83bfde4f7b8102580c17e2316e",
            "88005fa4cf1f4e8298a269bb961eb1e5",
            "b9a738d8875e485dab03641edec0589c",
            "cbadbe7d4e4a4d7aac1689bbf6733ec6",
            "e9236f6a07874f85b9e3b73cdc43954f"
          ]
        },
        "id": "rZZvRR3FV3Qb",
        "outputId": "e964bebd-047a-426b-834f-ab636639b2c7"
      },
      "execution_count": 28,
      "outputs": [
        {
          "output_type": "display_data",
          "data": {
            "text/plain": [
              "  0%|          | 0/20 [00:00<?, ?it/s]"
            ],
            "application/vnd.jupyter.widget-view+json": {
              "version_major": 2,
              "version_minor": 0,
              "model_id": "a01fc35e85764dbe8d9e3c1f0b0f050b"
            }
          },
          "metadata": {}
        },
        {
          "output_type": "stream",
          "name": "stdout",
          "text": [
            "Epoch number 0\n",
            "EPOCH : 0 / train loss :2.011275743889382 / train accuracy: 0.2587795716112532\n",
            "Epoch number 1\n",
            "EPOCH : 1 / train loss :1.7662586257280901 / train accuracy: 0.36086157289002563\n",
            "Epoch number 2\n",
            "EPOCH : 2 / train loss :1.618044379727005 / train accuracy: 0.41998481457800513\n",
            "Epoch number 3\n",
            "EPOCH : 3 / train loss :1.498383432702945 / train accuracy: 0.4628676470588235\n",
            "Epoch number 4\n",
            "EPOCH : 4 / train loss :1.3905594696474197 / train accuracy: 0.5045636189258312\n",
            "Epoch number 5\n",
            "EPOCH : 5 / train loss :1.3076150697820328 / train accuracy: 0.5357057225063938\n",
            "Epoch number 6\n",
            "EPOCH : 6 / train loss :1.243085658611239 / train accuracy: 0.5610493925831203\n",
            "Epoch number 7\n",
            "EPOCH : 7 / train loss :1.193642501788371 / train accuracy: 0.5790401214833759\n",
            "Epoch number 8\n",
            "EPOCH : 8 / train loss :1.1446144455838996 / train accuracy: 0.5967431265984655\n",
            "Epoch number 9\n",
            "EPOCH : 9 / train loss :1.1134129299227233 / train accuracy: 0.6053388746803069\n",
            "Epoch number 10\n",
            "EPOCH : 10 / train loss :1.0727995342915626 / train accuracy: 0.6235973465473146\n",
            "Epoch number 11\n",
            "EPOCH : 11 / train loss :1.048640144145702 / train accuracy: 0.6289042519181586\n",
            "Epoch number 12\n",
            "EPOCH : 12 / train loss :1.0239421007273448 / train accuracy: 0.6398817135549872\n",
            "Epoch number 13\n",
            "EPOCH : 13 / train loss :1.0062130060037384 / train accuracy: 0.647230658567775\n",
            "Epoch number 14\n",
            "EPOCH : 14 / train loss :0.9731102165053872 / train accuracy: 0.6577325767263427\n",
            "Epoch number 15\n",
            "EPOCH : 15 / train loss :0.9685107843040506 / train accuracy: 0.6590113491048593\n",
            "Epoch number 16\n",
            "EPOCH : 16 / train loss :0.9384524154541133 / train accuracy: 0.6697050831202046\n",
            "Epoch number 17\n",
            "EPOCH : 17 / train loss :0.9268516510953684 / train accuracy: 0.6744165601023018\n",
            "Epoch number 18\n",
            "EPOCH : 18 / train loss :0.9024277009317637 / train accuracy: 0.6836796675191816\n",
            "Epoch number 19\n",
            "EPOCH : 19 / train loss :0.8888449330464043 / train accuracy: 0.6894980818414322\n"
          ]
        }
      ]
    },
    {
      "cell_type": "markdown",
      "source": [
        "## 6. Testing:"
      ],
      "metadata": {
        "id": "jd2FoQP2bRNx"
      }
    },
    {
      "cell_type": "code",
      "source": [
        "model.eval()\n",
        "test_loss, test_acc  = 0, 0\n",
        "for X, y in test_dataloader:\n",
        "  X, y = X.to(device), y.to(device)\n",
        "  with torch.inference_mode():\n",
        "    logits = model(X)\n",
        "    # loss \n",
        "    test_loss += loss_fn(logits, y).item()\n",
        "    pred_class = torch.argmax(logits, dim = 1)\n",
        "    test_acc += (pred_class == y).sum().item()/len(logits)\n",
        "test_loss = test_loss/len(test_dataloader)\n",
        "test_acc = test_acc/len(test_dataloader)\n",
        "print(f\"Test loss: {test_loss}, accuracy: {test_acc}\")\n"
      ],
      "metadata": {
        "id": "6JIBXTGPY7ov",
        "colab": {
          "base_uri": "https://localhost:8080/"
        },
        "outputId": "9a9a0d42-3ab9-4cf2-bfc7-5310db0bcbde"
      },
      "execution_count": 29,
      "outputs": [
        {
          "output_type": "stream",
          "name": "stdout",
          "text": [
            "Test loss: 0.6587188662607458, accuracy: 0.7734375\n"
          ]
        }
      ]
    },
    {
      "cell_type": "markdown",
      "source": [
        "## 7. Predictions on the test data:"
      ],
      "metadata": {
        "id": "o9YAFZlmbWKl"
      }
    },
    {
      "cell_type": "code",
      "source": [
        "# make predictions \n",
        "import random\n",
        "\n",
        "samples, labels = [], []\n",
        "for sample, label in random.sample(list(test_data), k = 10):\n",
        "  samples.append(sample)\n",
        "  labels.append(label)\n",
        "model.eval()\n",
        "pred_probs = []\n",
        "for image in samples:\n",
        "  image = torch.unsqueeze(image, dim = 0).to(device) # we make sure that the shape of the image matches the model \n",
        "  preds = model(image)\n",
        "  pred_prob = torch.softmax(preds.squeeze(), dim = 0 )\n",
        "  pred_probs.append(pred_prob.cpu())\n",
        "pred_probs = torch.stack(pred_probs)\n",
        "\n",
        "\n",
        "\n",
        "  "
      ],
      "metadata": {
        "id": "kC4hdx89NPm6"
      },
      "execution_count": 30,
      "outputs": []
    },
    {
      "cell_type": "code",
      "source": [
        "pred_lables = pred_probs.argmax(dim = 1)\n",
        "pred_lables, labels"
      ],
      "metadata": {
        "colab": {
          "base_uri": "https://localhost:8080/"
        },
        "id": "VuR9joboRA-d",
        "outputId": "f622269c-2099-4dc5-c46e-8b2e0d78e9fe"
      },
      "execution_count": 31,
      "outputs": [
        {
          "output_type": "execute_result",
          "data": {
            "text/plain": [
              "(tensor([5, 0, 8, 1, 9, 4, 1, 1, 3, 6]), [5, 0, 8, 1, 9, 4, 1, 1, 6, 2])"
            ]
          },
          "metadata": {},
          "execution_count": 31
        }
      ]
    },
    {
      "cell_type": "markdown",
      "source": [
        "## 8. Ploting the redictions:"
      ],
      "metadata": {
        "id": "xtEZbv5hbdMk"
      }
    },
    {
      "cell_type": "code",
      "source": [
        "import matplotlib.pyplot as plt \n",
        "\n",
        "\n",
        "plt.figure()\n",
        "for i, sample in enumerate(random.sample(list(samples), k = 10)): \n",
        "\n",
        "\n",
        "  plt.imshow(sample.permute(1,2,0))\n",
        "  plt.title(f\"Predicted class :{class_names[pred_probs.argmax(dim=1)[i]]}/ Real class: {class_names[labels[i]]} \")\n",
        "  break\n",
        "\n",
        "\n"
      ],
      "metadata": {
        "colab": {
          "base_uri": "https://localhost:8080/",
          "height": 281
        },
        "id": "s2pty0yPN2UW",
        "outputId": "b501a8ec-6f9f-4b80-9239-f820fd45b70f"
      },
      "execution_count": 32,
      "outputs": [
        {
          "output_type": "display_data",
          "data": {
            "text/plain": [
              "<Figure size 432x288 with 1 Axes>"
            ],
            "image/png": "[encoded data removed]"
          },
          "metadata": {
            "needs_background": "light"
          }
        }
      ]
    }
  ]
}